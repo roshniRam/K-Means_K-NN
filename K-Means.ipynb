{
 "cells": [
  {
   "cell_type": "code",
   "execution_count": 1,
   "metadata": {},
   "outputs": [],
   "source": [
    "# Roshni Ram\n",
    "# 201651045\n",
    "# Implementing K-Means and K-NN algorithm\n",
    "\n",
    "#K-Means\n",
    "# The example from the class has been solved in the following\n",
    "# To apply the K-Means algorithm for different set of points and test point, just change the points, test point and update the points array in the code\n",
    "import matplotlib.pyplot as plt\n",
    "numIterations = 0"
   ]
  },
  {
   "cell_type": "code",
   "execution_count": 2,
   "metadata": {},
   "outputs": [],
   "source": [
    "def calculateMean(clusters):\n",
    "    means = []   \n",
    "    for j in range(len(clusters)):\n",
    "        clust1 = clusters[j]\n",
    "        sumx = 0\n",
    "        sumy = 0\n",
    "        meanA = []\n",
    "        for i in range(len(clust1)):\n",
    "            sumx += (clust1[i])[0]\n",
    "            sumy += (clust1[i])[1]\n",
    "        meanA.append(sumx/len(clust1))\n",
    "        meanA.append(sumy/len(clust1))\n",
    "        means.append(meanA)\n",
    "    \n",
    "    return means"
   ]
  },
  {
   "cell_type": "code",
   "execution_count": 3,
   "metadata": {},
   "outputs": [],
   "source": [
    "def calEuclideanDistances(pt1,pt2):\n",
    "    sum = 0\n",
    "    for i in range(len(pt1)):\n",
    "        sum += (pt1[i] - pt2[i])*(pt1[i] - pt2[i])\n",
    "        \n",
    "    return sum"
   ]
  },
  {
   "cell_type": "code",
   "execution_count": 4,
   "metadata": {},
   "outputs": [],
   "source": [
    "def calDistances(points,means):\n",
    "    distancePointsMean = []\n",
    "    \n",
    "    for i in range(len(points)):\n",
    "        pt = points[i]\n",
    "        dist = []\n",
    "        for j in range(len(means)):\n",
    "            dist.append(calEuclideanDistances(pt,means[j]))\n",
    "        distancePointsMean.append(dist)\n",
    "    \n",
    "    return distancePointsMean"
   ]
  },
  {
   "cell_type": "code",
   "execution_count": 5,
   "metadata": {},
   "outputs": [],
   "source": [
    "def reCluster(distanceTable,clusterSet):\n",
    "    for i in range(len(distanceTable)):\n",
    "        minimum = distanceTable[i].index(min(distanceTable[i]))\n",
    "        for j in range(len(clusterSet)):\n",
    "            if(j == minimum):\n",
    "                clusterSet[j].append(points[i])\n",
    "                break\n",
    "    return clusterSet"
   ]
  },
  {
   "cell_type": "code",
   "execution_count": 6,
   "metadata": {},
   "outputs": [],
   "source": [
    "def kmean(clusters):\n",
    "    global numIterations\n",
    "    numIterations += 1\n",
    "    A21 = []\n",
    "    A22 = []\n",
    "    A23 = []\n",
    "    newClusters = [A21,A22,A23]\n",
    "    means = []\n",
    "    means = calculateMean(clusters)\n",
    "    distanceTable = calDistances(points,means)\n",
    "    newClusters = reCluster(distanceTable,newClusters)\n",
    "    if( newClusters == clusters ):\n",
    "        print(\"Converged after \",numIterations,\" iterations.\")\n",
    "        for i in range(len(newClusters)):\n",
    "            print(newClusters[i])\n",
    "        for eachCluster in newClusters:\n",
    "            x = [item[0] for item in eachCluster]\n",
    "            y = [item[1] for item in eachCluster]\n",
    "            plt.scatter(x,y)\n",
    "    else:\n",
    "        kmean(newClusters)"
   ]
  },
  {
   "cell_type": "code",
   "execution_count": 7,
   "metadata": {},
   "outputs": [
    {
     "name": "stdout",
     "output_type": "stream",
     "text": [
      "Output - \n",
      "Converged after  2  iterations.\n",
      "[[1, 1], [2, 1], [1, 2]]\n",
      "[[-1, -1], [-2, -1]]\n",
      "[[-2, 1], [-2, 2]]\n"
     ]
    },
    {
     "data": {
      "image/png": "[encoded data removed]",
      "text/plain": [
       "<Figure size 432x288 with 1 Axes>"
      ]
     },
     "metadata": {
      "needs_background": "light"
     },
     "output_type": "display_data"
    }
   ],
   "source": [
    "x1 = [1,1]\n",
    "x2 = [2,1]\n",
    "x3 = [1,2]\n",
    "x4 = [-1,-1]\n",
    "x5 = [-2,1]\n",
    "x6 = [-2,-1]\n",
    "x7 = [-2,2]\n",
    "points = [x1,x2,x3,x4,x5,x6,x7]\n",
    "\n",
    "k = 3\n",
    "\n",
    "c1 = [x1,x2,x3]\n",
    "c2 = [x4]\n",
    "c3 = [x5,x6,x7]\n",
    "\n",
    "clusters = [c1,c2,c3]\n",
    "\n",
    "print(\"Output - \")\n",
    "kmean(clusters)\n"
   ]
  },
  {
   "cell_type": "code",
   "execution_count": null,
   "metadata": {},
   "outputs": [],
   "source": []
  }
 ],
 "metadata": {
  "kernelspec": {
   "display_name": "Python 3",
   "language": "python",
   "name": "python3"
  },
  "language_info": {
   "codemirror_mode": {
    "name": "ipython",
    "version": 3
   },
   "file_extension": ".py",
   "mimetype": "text/x-python",
   "name": "python",
   "nbconvert_exporter": "python",
   "pygments_lexer": "ipython3",
   "version": "3.6.8"
  }
 },
 "nbformat": 4,
 "nbformat_minor": 2
}
