{
 "cells": [
  {
   "cell_type": "code",
   "execution_count": 1,
   "metadata": {},
   "outputs": [],
   "source": [
    "# K-NN \n",
    "# The example from the class has been solved in the following\n",
    "# To apply the K-NN algorithm for different set of points and test point, just change the points, test point and update the points array in the code\n",
    "import matplotlib.pyplot as plt"
   ]
  },
  {
   "cell_type": "code",
   "execution_count": 2,
   "metadata": {},
   "outputs": [],
   "source": [
    "def calEuclideanDistances(pt1,pt2):\n",
    "    sum = 0\n",
    "    for i in range(len(pt1)):\n",
    "        sum += (pt1[i] - pt2[i])*(pt1[i] - pt2[i])\n",
    "        \n",
    "    return sum"
   ]
  },
  {
   "cell_type": "code",
   "execution_count": 3,
   "metadata": {},
   "outputs": [],
   "source": [
    "def generateDistTable(points,testPoint):\n",
    "    distTable = []\n",
    "    for i in range(len(points)):\n",
    "        dist = []\n",
    "        dist.append(calEuclideanDistances(testPoint,points[i]))\n",
    "        dist.append((points[i])[2])\n",
    "        distTable.append(dist)\n",
    "    return distTable"
   ]
  },
  {
   "cell_type": "code",
   "execution_count": 4,
   "metadata": {},
   "outputs": [],
   "source": [
    "def classifyPoint(distTable,k):\n",
    "    distTable.sort()\n",
    "    length = k\n",
    "    for i in range(k,len(distTable)):\n",
    "        if(distTable[i-1] == distTable[i]):\n",
    "            length += 1\n",
    "        else:\n",
    "            break\n",
    "    distTable = distTable[0:length+1]\n",
    "    countClasses = [0,0,0]\n",
    "    \n",
    "    for i in range(len(distTable)):\n",
    "        if ((distTable[i])[1]=='c1'):\n",
    "            countClasses[0] += 1\n",
    "        elif( (distTable[i])[1]=='c2'):\n",
    "            countClasses[1] += 1\n",
    "        else:\n",
    "            countClasses[2] += 1\n",
    "    \n",
    "    indexP = countClasses.index(max(countClasses))\n",
    "    if(indexP == 0):\n",
    "        return 'c1'\n",
    "    elif (indexP == 1):\n",
    "        return 'c2'\n",
    "    else:\n",
    "        return 'c3'"
   ]
  },
  {
   "cell_type": "code",
   "execution_count": 14,
   "metadata": {},
   "outputs": [
    {
     "ename": "SyntaxError",
     "evalue": "invalid syntax (<ipython-input-14-4664eb5b0977>, line 19)",
     "output_type": "error",
     "traceback": [
      "\u001b[0;36m  File \u001b[0;32m\"<ipython-input-14-4664eb5b0977>\"\u001b[0;36m, line \u001b[0;32m19\u001b[0m\n\u001b[0;31m    \"The test point, \\testPoint,\" belongs to \",cluster,\" cluster.\"\u001b[0m\n\u001b[0m                                        ^\u001b[0m\n\u001b[0;31mSyntaxError\u001b[0m\u001b[0;31m:\u001b[0m invalid syntax\n"
     ]
    }
   ],
   "source": [
    "x1 = [-2,-1,\"c1\"]\n",
    "x2 = [-2,1,\"c2\"]\n",
    "x3 = [-2,2,\"c2\"]\n",
    "x4 = [-1,-1,\"c1\"]\n",
    "x5 = [1,-1,\"c1\"]\n",
    "x6 = [1,1,\"c3\"]\n",
    "x7 = [1,2,\"c3\"]\n",
    "x8 = [2,1,\"c3\"]\n",
    "\n",
    "testPoint = [-1,1]\n",
    "points = [x1,x2,x3,x4,x5,x6,x7,x8]\n",
    "\n",
    "k = 3\n",
    "\n",
    "distTable = []\n",
    "distTable = generateDistTable(points,testPoint)\n",
    "\n",
    "cluster = classifyPoint(distTable,k)\n",
    "\"The test point, \\testPoint,\" belongs to \",cluster,\" cluster.\""
   ]
  },
  {
   "cell_type": "code",
   "execution_count": 6,
   "metadata": {},
   "outputs": [
    {
     "data": {
      "text/plain": [
       "<matplotlib.collections.PathCollection at 0x10f3d31d0>"
      ]
     },
     "execution_count": 6,
     "metadata": {},
     "output_type": "execute_result"
    },
    {
     "data": {
      "image/png": "[encoded data removed]",
      "text/plain": [
       "<Figure size 432x288 with 1 Axes>"
      ]
     },
     "metadata": {
      "needs_background": "light"
     },
     "output_type": "display_data"
    }
   ],
   "source": [
    "c1x = [-2,-1,1 ]\n",
    "c1y = [-1,-1,-1]\n",
    "c2x = [-2,-2]\n",
    "c2y = [1,2]\n",
    "c3x = [1,1,2]\n",
    "c3y = [1,2,1]\n",
    "tpx = [-1]\n",
    "tpy = [1]\n",
    "plt.scatter(c1x, c1y, color = 'b')\n",
    "plt.scatter(c2x, c2y, color = 'm')\n",
    "plt.scatter(c3x, c3y, color = 'g')\n",
    "plt.scatter(tpx, tpy, color = 'r')"
   ]
  }
 ],
 "metadata": {
  "kernelspec": {
   "display_name": "Python 3",
   "language": "python",
   "name": "python3"
  },
  "language_info": {
   "codemirror_mode": {
    "name": "ipython",
    "version": 3
   },
   "file_extension": ".py",
   "mimetype": "text/x-python",
   "name": "python",
   "nbconvert_exporter": "python",
   "pygments_lexer": "ipython3",
   "version": "3.6.8"
  }
 },
 "nbformat": 4,
 "nbformat_minor": 2
}
